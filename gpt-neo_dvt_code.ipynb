{
  "nbformat": 4,
  "nbformat_minor": 0,
  "metadata": {
    "colab": {
      "provenance": [],
      "authorship_tag": "ABX9TyNblnHBGxj7fJ3UGwG/Bqwr",
      "include_colab_link": true
    },
    "kernelspec": {
      "name": "python3",
      "display_name": "Python 3"
    },
    "language_info": {
      "name": "python"
    }
  },
  "cells": [
    {
      "cell_type": "markdown",
      "metadata": {
        "id": "view-in-github",
        "colab_type": "text"
      },
      "source": [
        "<a href=\"https://colab.research.google.com/github/huyduatop29/Large-Language-Models/blob/main/gpt-neo_dvt_code.ipynb\" target=\"_parent\"><img src=\"https://colab.research.google.com/assets/colab-badge.svg\" alt=\"Open In Colab\"/></a>"
      ]
    },
    {
      "cell_type": "code",
      "source": [
        "!pip install python-docx"
      ],
      "metadata": {
        "colab": {
          "base_uri": "https://localhost:8080/"
        },
        "id": "wi8cpVHMU-I2",
        "outputId": "48d7c61f-7e0b-4b9d-bc6b-a3948a871c3d"
      },
      "execution_count": 2,
      "outputs": [
        {
          "output_type": "stream",
          "name": "stdout",
          "text": [
            "Collecting python-docx\n",
            "  Downloading python_docx-1.1.2-py3-none-any.whl.metadata (2.0 kB)\n",
            "Requirement already satisfied: lxml>=3.1.0 in /usr/local/lib/python3.10/dist-packages (from python-docx) (4.9.4)\n",
            "Requirement already satisfied: typing-extensions>=4.9.0 in /usr/local/lib/python3.10/dist-packages (from python-docx) (4.12.2)\n",
            "Downloading python_docx-1.1.2-py3-none-any.whl (244 kB)\n",
            "\u001b[?25l   \u001b[90m━━━━━━━━━━━━━━━━━━━━━━━━━━━━━━━━━━━━━━━━\u001b[0m \u001b[32m0.0/244.3 kB\u001b[0m \u001b[31m?\u001b[0m eta \u001b[36m-:--:--\u001b[0m\r\u001b[2K   \u001b[90m━━━━━━━━━━━━━━━━━━━━━━━━━━━━━━━━━━━━━━━━\u001b[0m \u001b[32m244.3/244.3 kB\u001b[0m \u001b[31m7.1 MB/s\u001b[0m eta \u001b[36m0:00:00\u001b[0m\n",
            "\u001b[?25hInstalling collected packages: python-docx\n",
            "Successfully installed python-docx-1.1.2\n"
          ]
        }
      ]
    },
    {
      "cell_type": "code",
      "source": [
        "!pip install pdfplumber"
      ],
      "metadata": {
        "colab": {
          "base_uri": "https://localhost:8080/"
        },
        "id": "FxmrCsXFlx5y",
        "outputId": "af3d562d-af99-4fed-cbc0-ce2bb32d8949"
      },
      "execution_count": 3,
      "outputs": [
        {
          "output_type": "stream",
          "name": "stdout",
          "text": [
            "Collecting pdfplumber\n",
            "  Downloading pdfplumber-0.11.3-py3-none-any.whl.metadata (41 kB)\n",
            "\u001b[?25l     \u001b[90m━━━━━━━━━━━━━━━━━━━━━━━━━━━━━━━━━━━━━━━━\u001b[0m \u001b[32m0.0/42.0 kB\u001b[0m \u001b[31m?\u001b[0m eta \u001b[36m-:--:--\u001b[0m\r\u001b[2K     \u001b[90m━━━━━━━━━━━━━━━━━━━━━━━━━━━━━━━━━━━━━━━━\u001b[0m \u001b[32m42.0/42.0 kB\u001b[0m \u001b[31m2.4 MB/s\u001b[0m eta \u001b[36m0:00:00\u001b[0m\n",
            "\u001b[?25hCollecting pdfminer.six==20231228 (from pdfplumber)\n",
            "  Downloading pdfminer.six-20231228-py3-none-any.whl.metadata (4.2 kB)\n",
            "Requirement already satisfied: Pillow>=9.1 in /usr/local/lib/python3.10/dist-packages (from pdfplumber) (9.4.0)\n",
            "Collecting pypdfium2>=4.18.0 (from pdfplumber)\n",
            "  Downloading pypdfium2-4.30.0-py3-none-manylinux_2_17_x86_64.manylinux2014_x86_64.whl.metadata (48 kB)\n",
            "\u001b[2K     \u001b[90m━━━━━━━━━━━━━━━━━━━━━━━━━━━━━━━━━━━━━━━━\u001b[0m \u001b[32m48.5/48.5 kB\u001b[0m \u001b[31m2.6 MB/s\u001b[0m eta \u001b[36m0:00:00\u001b[0m\n",
            "\u001b[?25hRequirement already satisfied: charset-normalizer>=2.0.0 in /usr/local/lib/python3.10/dist-packages (from pdfminer.six==20231228->pdfplumber) (3.3.2)\n",
            "Requirement already satisfied: cryptography>=36.0.0 in /usr/local/lib/python3.10/dist-packages (from pdfminer.six==20231228->pdfplumber) (42.0.8)\n",
            "Requirement already satisfied: cffi>=1.12 in /usr/local/lib/python3.10/dist-packages (from cryptography>=36.0.0->pdfminer.six==20231228->pdfplumber) (1.17.0)\n",
            "Requirement already satisfied: pycparser in /usr/local/lib/python3.10/dist-packages (from cffi>=1.12->cryptography>=36.0.0->pdfminer.six==20231228->pdfplumber) (2.22)\n",
            "Downloading pdfplumber-0.11.3-py3-none-any.whl (59 kB)\n",
            "\u001b[2K   \u001b[90m━━━━━━━━━━━━━━━━━━━━━━━━━━━━━━━━━━━━━━━━\u001b[0m \u001b[32m59.2/59.2 kB\u001b[0m \u001b[31m3.8 MB/s\u001b[0m eta \u001b[36m0:00:00\u001b[0m\n",
            "\u001b[?25hDownloading pdfminer.six-20231228-py3-none-any.whl (5.6 MB)\n",
            "\u001b[2K   \u001b[90m━━━━━━━━━━━━━━━━━━━━━━━━━━━━━━━━━━━━━━━━\u001b[0m \u001b[32m5.6/5.6 MB\u001b[0m \u001b[31m45.5 MB/s\u001b[0m eta \u001b[36m0:00:00\u001b[0m\n",
            "\u001b[?25hDownloading pypdfium2-4.30.0-py3-none-manylinux_2_17_x86_64.manylinux2014_x86_64.whl (2.8 MB)\n",
            "\u001b[2K   \u001b[90m━━━━━━━━━━━━━━━━━━━━━━━━━━━━━━━━━━━━━━━━\u001b[0m \u001b[32m2.8/2.8 MB\u001b[0m \u001b[31m44.9 MB/s\u001b[0m eta \u001b[36m0:00:00\u001b[0m\n",
            "\u001b[?25hInstalling collected packages: pypdfium2, pdfminer.six, pdfplumber\n",
            "Successfully installed pdfminer.six-20231228 pdfplumber-0.11.3 pypdfium2-4.30.0\n"
          ]
        }
      ]
    },
    {
      "cell_type": "code",
      "source": [
        "import os\n",
        "import pdfplumber\n",
        "from docx import Document\n",
        "import json\n",
        "from pdfminer.pdfdocument import PDFSyntaxError\n",
        "\n",
        "def extract_text_from_pdf(pdf_path):\n",
        "    text = \"\"\n",
        "    try:\n",
        "        with pdfplumber.open(pdf_path) as pdf:\n",
        "            for page in pdf.pages:\n",
        "                text += page.extract_text() + \"\\n\"\n",
        "    except PDFSyntaxError as e:\n",
        "        print(f\"Could not read PDF file {pdf_path}: {e}\")\n",
        "        return None  # Trả về None nếu tệp PDF không hợp lệ\n",
        "    except Exception as e:\n",
        "        print(f\"Unexpected error when reading {pdf_path}: {e}\")\n",
        "        return None\n",
        "    return text\n",
        "\n",
        "def extract_text_from_docx(docx_path):\n",
        "    try:\n",
        "        doc = Document(docx_path)\n",
        "        text = \"\"\n",
        "        for para in doc.paragraphs:\n",
        "            text += para.text + \"\\n\"\n",
        "        return text\n",
        "    except Exception as e:\n",
        "        print(f\"Could not read DOCX file {docx_path}: {e}\")\n",
        "        return None  # Trả về None nếu tệp DOCX không hợp lệ\n",
        "\n",
        "def process_folder(folder_path):\n",
        "    data = {}\n",
        "    for filename in os.listdir(folder_path):\n",
        "        file_path = os.path.join(folder_path, filename)\n",
        "        if filename.endswith('.pdf'):\n",
        "            text = extract_text_from_pdf(file_path)\n",
        "            if text:  # Chỉ thêm văn bản nếu tệp PDF hợp lệ\n",
        "                data[filename] = text\n",
        "            else:\n",
        "                os.remove(file_path)  # Xóa tệp không hợp lệ\n",
        "                print(f\"Removed invalid PDF file: {filename}\")\n",
        "        elif filename.endswith('.docx'):\n",
        "            text = extract_text_from_docx(file_path)\n",
        "            if text:  # Chỉ thêm văn bản nếu tệp DOCX hợp lệ\n",
        "                data[filename] = text\n",
        "            else:\n",
        "                os.remove(file_path)  # Xóa tệp không hợp lệ\n",
        "                print(f\"Removed invalid DOCX file: {filename}\")\n",
        "        else:\n",
        "            print(f\"Unsupported file format: {filename}\")\n",
        "    return data\n",
        "\n",
        "def save_data_as_json(data, output_file):\n",
        "    with open(output_file, 'w', encoding='utf-8') as f:\n",
        "        json.dump(data, f, ensure_ascii=False, indent=4)\n",
        "\n",
        "# Đường dẫn đến thư mục chứa các tệp PDF và Word\n",
        "folder_path = '/content/data'\n",
        "\n",
        "# Xử lý thư mục và trích xuất văn bản\n",
        "extracted_data = process_folder(folder_path)\n",
        "\n",
        "# Lưu dữ liệu trích xuất thành tệp JSON\n",
        "save_data_as_json(extracted_data, 'output_data.json')\n",
        "\n",
        "print(\"Dữ liệu đã được lưu vào output_data.json\")\n"
      ],
      "metadata": {
        "colab": {
          "base_uri": "https://localhost:8080/"
        },
        "id": "nj0ksHGWVDtd",
        "outputId": "3c02586d-5e49-40cc-e650-17aa35f72fef"
      },
      "execution_count": 31,
      "outputs": [
        {
          "output_type": "stream",
          "name": "stdout",
          "text": [
            "Could not read DOCX file /content/data/báo cáo thực tập gốm đất việt.docx: Package not found at '/content/data/báo cáo thực tập gốm đất việt.docx'\n",
            "Removed invalid DOCX file: báo cáo thực tập gốm đất việt.docx\n",
            "Could not read DOCX file /content/data/~$CH CÔNG SUẤT ROBOT LIDAR.docx: Package not found at '/content/data/~$CH CÔNG SUẤT ROBOT LIDAR.docx'\n",
            "Removed invalid DOCX file: ~$CH CÔNG SUẤT ROBOT LIDAR.docx\n",
            "Could not read DOCX file /content/data/~$ITAPCOSODULIEU.docx: Package not found at '/content/data/~$ITAPCOSODULIEU.docx'\n",
            "Removed invalid DOCX file: ~$ITAPCOSODULIEU.docx\n",
            "Could not read DOCX file /content/data/~$ng_6lowpan.docx: Package not found at '/content/data/~$ng_6lowpan.docx'\n",
            "Removed invalid DOCX file: ~$ng_6lowpan.docx\n",
            "Dữ liệu đã được lưu vào output_data.json\n"
          ]
        }
      ]
    },
    {
      "cell_type": "code",
      "source": [
        "import json\n",
        "\n",
        "# Đường dẫn tới file JSON\n",
        "json_file_path = '/content/output_data.json'\n",
        "\n",
        "# Tải dữ liệu từ file JSON\n",
        "with open(json_file_path, 'r', encoding='utf-8') as f:\n",
        "    data = json.load(f)\n",
        "\n",
        "# Kiểm tra các tệp và nội dung\n",
        "print(data.keys())\n"
      ],
      "metadata": {
        "colab": {
          "base_uri": "https://localhost:8080/"
        },
        "id": "xe3MVBkcsjr6",
        "outputId": "29f42fc4-06b6-48f2-c2ea-937cc82fc855"
      },
      "execution_count": 32,
      "outputs": [
        {
          "output_type": "stream",
          "name": "stdout",
          "text": [
            "dict_keys(['triết-100-câu-p2-1-1.pdf', 'triết-100-câu-p2-1.pdf', 'Đề IOT (1).docx', 'LY_THUYET.docx', 'Phạm-Ngọc-Hải_213301919 (1).pdf', 'Chuong 1.pdf', '07. PIC16F887.pdf', 'Phao.docx', '2000 Kanji thuong dung.pdf', '1-4.docx', 'trợ lí ảo AI.docx', '0-Thuc hanh Cau truc DL & GT-1.pdf', 'De-GT2-L1-gui-SV.pdf', '26642-Article Text-89517-1-10-20170113.pdf', 'BT-MatLab-17-10.pdf', 'BaitapGT2-2022.pdf', 'GiaoTrinhTBĐLĐK_2015_HoanThien.pdf', 'CÂU HỎI ÔN TẬP F2 - GDQP.pdf', 'Chuong 2_ Mo hinh ER.pdf', 'TOAN CAO CAP CHAPTER 7,8 VER3.pdf', 'nhapdulieu_btl.docx', 'triet2cau.docx', 'Ôn tập lí thuyết IOT cơ bản.pdf', 'Đề IOT (3).docx', 'Hệ thống điều khiển nhiều chiều và phi t.pdf', 'matlab_tran-van-chinh_chuong-4_noi-suy-va-xap-xi-ham - [cuuduongthancong.com].pdf', 'Tiềm-lực-chính-trị-tinh-thần-là-nhân-tố-cơ-bản-tạo-nên-sức-mạnh-của-quốc-phòng.docx', 'PHƯƠNG THỨC TỒN TẠI.docx', 'ETS 2022 Test 1.pdf', 'BTL-KTĐL (1).docx', 'vận-dụng-trong-xây-dựng.pdf', 'Chuong 4 Dai so quan he.pdf', 'Câu hỏi thi K62.pdf', 'Vật lý .Chương 6.Trường tĩnh điện.pdf', 'Vật lý.Nguyen lý I NĐH.pdf', 'euler_matlab.pdf', 'Chuong 1 Matlab co ban.pdf', 'Chuong 2 - Ppdem.pdf', 'Câu 2.docx', 'BÁO-CÁO-2 (1).docx', 'De kiem tra giua ky.K62.pdf', 'De-cuong.docx', '100-KTCT-2.pdf', 'Vật lý .Khí lý tưởng.pdf', 'Triết-học.docx', 'Đề-GT2-Lần 2-gui-SV (1).pdf', 'BTL-đo-lường-Nhóm-1_RAI62.pdf', 'Unit 9.docx', '01_Tongquan.pdf', 'pact1-đttt.docx', 'Tra cứu hàm CCS cho PIC.pdf', 'BÁO CÁO.docx', '34_Trần Quốc Huy _N08.pdf', 'BAO_CAO_BTL_DTCSDCD_NHOM05.pdf', 'Bài Giảng Bản thảo 1.pdf', 'QUICKPREP - RC - TEST 1.pdf', 'NguyễnQuangHuy_ĐàoNhưAnh_HồThuPhương.docx', 'project.pdf', 'baigiang-KTDL-c1 2018.pdf', 'Vật lý .Chương 6.Trường tĩnh điện (1).pdf', 'CSDL_N01_NHOM03_Final.docx', 'Chuong 4 Dong luc hoc Robot.pdf', 'FILE_20220405_134341_34_Trần Quốc Huy _N08.pdf', 'Chương 1 - Logic.pdf', 'btldl.pdf', 'Vật lý Chương 7.Từ trường.pdf', 'Baitaplonvixuly (1).docx', '235.pdf', 'Đề IOT (2).docx', 'Đề cương ôn tập PTTKTT.docx', 'Một số dạng thức suy luận quan trọng thường dùng.docx', 'Baitaplonvixuly.docx', 'DE-CUONG-TRIET.pdf', 'BAITAPCOSODULIEU.docx', 'giai-tich-2__tich-phan-mat-loai-1-_-2 - [cuuduongthancong.com].pdf', 'Báo-cáo-thực-tập.docx', 'Chuong 7_Dang chuan va chuan hoa du lieu.pdf', 'Harry potter.docx', '34_Trần Quốc Huy_N08.pdf', '_VXL_slide_Phần-2_PIC16F877A-copy-cho-sv.pdf', 'Matlab_ode.pdf', 'CV NGUYEN CONG TRANG - thực tập sinh php.pdf', 'BTL-KTĐL.docx', 'Linux Device Drivers.pdf', 'Bài Giảng Bản thảo 1 (1).pdf', 'Phạm-Ngọc-Hải_213301919.pdf', 'Arduino projects book ( PDFDrive ).pdf', 'ĐỀ TOEIC READING - TỪ MS HOA TOEIC.docx', 'Slide-Matlab_m1-dkh.pdf', 'tnvl.pdf', 'CSDL-Trắc-nhiệm-350-câu (1).pdf', 'điện-tử-tương-tự.pdf', 'robot.pdf', 'đề cương (lý thuyết) made by LPT (1).pdf', 'BTL_ĐỀ 9_NHÓM9.pdf', 'Thông-tin-đội-hình (1).docx', 'BTL_ĐỀ-9_NHÓM9.pdf', 'CSDL_N01_NHOM05_Lan1-1.docx', 'Mọi-con-đường-về-0-DFS-Autosaved (1).docx', 'đề cương (lý thuyết) made by LPT.pdf', 'mang_6lowpan.docx', 'Tán gái đại cương.docx', 'Thí-nghiệm-A1.pdf', 'BÁO CÁO LẬP TRÌNH ROBOT.docx', 'ĐỀ CƯƠNG BÀI GIẢNG MÔN CNXHKH 2023(hoàn chỉnh) (1).docx', 'BÀI TẬP ROBOT CÔNG NGHIỆP (1).pdf', 'BAOCAO_NCKH.docx', 'Đề số 1.pdf', 'Hệ thống điều khiển nhiều chiều và phi t (1).pdf', 'FILE_20221019_131429_Ly60z.pdf', 'BTL_ĐỀ-9_NHÓM9.docx', 'Mẫu câu hỏi trắc nghiệm Giải tích 2 - 2022 (1).pdf', 'De cuong 4TC-SV.pdf', 'FILE_20220405_133949_34_Trần Quốc Huy _N08.pdf', 'Đề-GT2-Lần 2-gui-SV.pdf', 'KTRB.docx', 'triet_100cau-1.pdf', 'I2C.docx', 'John Madieu - Linux Device Driver Development_ Everything you need to start with device driver development for Linux kernel and embedded Linux-Packt Publishing (2022).pdf', 'Chuong 1 Tong Quan.pdf', 'hdh.docx', 'Ly Thuyet do thi.pdf', 'FILE_20220911_085035_1.Bai tap thuc hanh Matlab-PPT.pdf', 'stm32cubemx.pdf', 'Duy-213303537.pdf', 'Chuong 2 Bieu dien khong gian & Phep bien doi.pdf', 'baocaocuahuy.docx', 'Thông-tin-đội-hình.docx', 'Chuong 3_ Mo hinh quan he.pdf', 'Chuong 6_Phu thuoc ham.pdf', 'Câu-hỏi-thuyết-trình-csdl.docx', 'Bài tập Giải tích 1 - 2021.pdf', 'Slide-Matlab_ong-dkh.pdf', 'Mẫu câu hỏi trắc nghiệm Giải tích 2 - 2022.pdf', 'Giải Đề VXL .docx', 'Vật lý. Nguyen lý II NĐH.pdf', 'Gaio-thức-CoAP.docx', 'BAITAPLONPHANTICH_QUOCHUY_2023.docx', 'huong-dan-lap-trinh-python-_toan-dai-cuong_-1.pdf', '04. KIT PIC CIRCUIT.pdf', 'BGGT1 (1).pdf', 'CSDL-Trắc-nhiệm-350-câu.pdf', 'TLCTDLGT.docx', 'MẠCH CÔNG SUẤT ROBOT LIDAR.docx', 'Đề IOT.docx', 'Chuong-1-ToanC.pdf', 'Chuong 3 Dong hoc Robot 2.pdf', 'Bai tap - Ky thuat lap trinh.pdf', 'BGGT1.pdf', '600 est_.pdf', 'BAO_CAO_CUOI_KI.docx', '41680-Article Text-131895-1-10-20190720.pdf', 'A.docx', 'ĐÁP ÁN.docx', 'Báo cáo thực hành_Trần Quốc Huy_213304021.docx', 'Baitapdaiso2020.pdf', 'De-mau-GT1-L1.pdf', 'Chuong 1_Mot so khai niem co ban ve CSDL.pdf', 'lap trinh STM32 F103 1.pdf', 'TAI LIEU HPIII. theo Thong tư 05 danh cho SV hoc tap.pdf', 'CamScanner 04-02-2022 00.08.pdf', 'BÀI TẬP ROBOT CÔNG NGHIỆP.pdf', 'me.docx', '670-Bài báo-162-1-10-20170713.pdf', 'Nguyễn Ngọc Thành _ 213333585.docx', 'BÀI KIỂM TRA MATLAB 15_11.docx', 'Nhapdulieubtl.docx', 'Bao-cao-thuc-hanh.docx', 'Đề Cương.docx', 'BTL_VXL.docx', 'Vật lý Chương 7.Từ trường (1).pdf', 'mang_6lowpan (1).docx', 'matlab.docx'])\n"
          ]
        }
      ]
    },
    {
      "cell_type": "code",
      "source": [
        "pip install -U sentence-transformers"
      ],
      "metadata": {
        "colab": {
          "base_uri": "https://localhost:8080/"
        },
        "id": "DO7-T2pis4Bs",
        "outputId": "87f02cfb-d939-43af-ab2d-9b7a67784750"
      },
      "execution_count": 33,
      "outputs": [
        {
          "output_type": "stream",
          "name": "stdout",
          "text": [
            "Requirement already satisfied: sentence-transformers in /usr/local/lib/python3.10/dist-packages (3.0.1)\n",
            "Requirement already satisfied: transformers<5.0.0,>=4.34.0 in /usr/local/lib/python3.10/dist-packages (from sentence-transformers) (4.42.4)\n",
            "Requirement already satisfied: tqdm in /usr/local/lib/python3.10/dist-packages (from sentence-transformers) (4.66.5)\n",
            "Requirement already satisfied: torch>=1.11.0 in /usr/local/lib/python3.10/dist-packages (from sentence-transformers) (2.3.1+cu121)\n",
            "Requirement already satisfied: numpy in /usr/local/lib/python3.10/dist-packages (from sentence-transformers) (1.26.4)\n",
            "Requirement already satisfied: scikit-learn in /usr/local/lib/python3.10/dist-packages (from sentence-transformers) (1.3.2)\n",
            "Requirement already satisfied: scipy in /usr/local/lib/python3.10/dist-packages (from sentence-transformers) (1.13.1)\n",
            "Requirement already satisfied: huggingface-hub>=0.15.1 in /usr/local/lib/python3.10/dist-packages (from sentence-transformers) (0.23.5)\n",
            "Requirement already satisfied: Pillow in /usr/local/lib/python3.10/dist-packages (from sentence-transformers) (9.4.0)\n",
            "Requirement already satisfied: filelock in /usr/local/lib/python3.10/dist-packages (from huggingface-hub>=0.15.1->sentence-transformers) (3.15.4)\n",
            "Requirement already satisfied: fsspec>=2023.5.0 in /usr/local/lib/python3.10/dist-packages (from huggingface-hub>=0.15.1->sentence-transformers) (2024.6.1)\n",
            "Requirement already satisfied: packaging>=20.9 in /usr/local/lib/python3.10/dist-packages (from huggingface-hub>=0.15.1->sentence-transformers) (24.1)\n",
            "Requirement already satisfied: pyyaml>=5.1 in /usr/local/lib/python3.10/dist-packages (from huggingface-hub>=0.15.1->sentence-transformers) (6.0.2)\n",
            "Requirement already satisfied: requests in /usr/local/lib/python3.10/dist-packages (from huggingface-hub>=0.15.1->sentence-transformers) (2.32.3)\n",
            "Requirement already satisfied: typing-extensions>=3.7.4.3 in /usr/local/lib/python3.10/dist-packages (from huggingface-hub>=0.15.1->sentence-transformers) (4.12.2)\n",
            "Requirement already satisfied: sympy in /usr/local/lib/python3.10/dist-packages (from torch>=1.11.0->sentence-transformers) (1.13.1)\n",
            "Requirement already satisfied: networkx in /usr/local/lib/python3.10/dist-packages (from torch>=1.11.0->sentence-transformers) (3.3)\n",
            "Requirement already satisfied: jinja2 in /usr/local/lib/python3.10/dist-packages (from torch>=1.11.0->sentence-transformers) (3.1.4)\n",
            "Requirement already satisfied: nvidia-cuda-nvrtc-cu12==12.1.105 in /usr/local/lib/python3.10/dist-packages (from torch>=1.11.0->sentence-transformers) (12.1.105)\n",
            "Requirement already satisfied: nvidia-cuda-runtime-cu12==12.1.105 in /usr/local/lib/python3.10/dist-packages (from torch>=1.11.0->sentence-transformers) (12.1.105)\n",
            "Requirement already satisfied: nvidia-cuda-cupti-cu12==12.1.105 in /usr/local/lib/python3.10/dist-packages (from torch>=1.11.0->sentence-transformers) (12.1.105)\n",
            "Requirement already satisfied: nvidia-cudnn-cu12==8.9.2.26 in /usr/local/lib/python3.10/dist-packages (from torch>=1.11.0->sentence-transformers) (8.9.2.26)\n",
            "Requirement already satisfied: nvidia-cublas-cu12==12.1.3.1 in /usr/local/lib/python3.10/dist-packages (from torch>=1.11.0->sentence-transformers) (12.1.3.1)\n",
            "Requirement already satisfied: nvidia-cufft-cu12==11.0.2.54 in /usr/local/lib/python3.10/dist-packages (from torch>=1.11.0->sentence-transformers) (11.0.2.54)\n",
            "Requirement already satisfied: nvidia-curand-cu12==10.3.2.106 in /usr/local/lib/python3.10/dist-packages (from torch>=1.11.0->sentence-transformers) (10.3.2.106)\n",
            "Requirement already satisfied: nvidia-cusolver-cu12==11.4.5.107 in /usr/local/lib/python3.10/dist-packages (from torch>=1.11.0->sentence-transformers) (11.4.5.107)\n",
            "Requirement already satisfied: nvidia-cusparse-cu12==12.1.0.106 in /usr/local/lib/python3.10/dist-packages (from torch>=1.11.0->sentence-transformers) (12.1.0.106)\n",
            "Requirement already satisfied: nvidia-nccl-cu12==2.20.5 in /usr/local/lib/python3.10/dist-packages (from torch>=1.11.0->sentence-transformers) (2.20.5)\n",
            "Requirement already satisfied: nvidia-nvtx-cu12==12.1.105 in /usr/local/lib/python3.10/dist-packages (from torch>=1.11.0->sentence-transformers) (12.1.105)\n",
            "Requirement already satisfied: triton==2.3.1 in /usr/local/lib/python3.10/dist-packages (from torch>=1.11.0->sentence-transformers) (2.3.1)\n",
            "Requirement already satisfied: nvidia-nvjitlink-cu12 in /usr/local/lib/python3.10/dist-packages (from nvidia-cusolver-cu12==11.4.5.107->torch>=1.11.0->sentence-transformers) (12.6.20)\n",
            "Requirement already satisfied: regex!=2019.12.17 in /usr/local/lib/python3.10/dist-packages (from transformers<5.0.0,>=4.34.0->sentence-transformers) (2024.5.15)\n",
            "Requirement already satisfied: safetensors>=0.4.1 in /usr/local/lib/python3.10/dist-packages (from transformers<5.0.0,>=4.34.0->sentence-transformers) (0.4.4)\n",
            "Requirement already satisfied: tokenizers<0.20,>=0.19 in /usr/local/lib/python3.10/dist-packages (from transformers<5.0.0,>=4.34.0->sentence-transformers) (0.19.1)\n",
            "Requirement already satisfied: joblib>=1.1.1 in /usr/local/lib/python3.10/dist-packages (from scikit-learn->sentence-transformers) (1.4.2)\n",
            "Requirement already satisfied: threadpoolctl>=2.0.0 in /usr/local/lib/python3.10/dist-packages (from scikit-learn->sentence-transformers) (3.5.0)\n",
            "Requirement already satisfied: MarkupSafe>=2.0 in /usr/local/lib/python3.10/dist-packages (from jinja2->torch>=1.11.0->sentence-transformers) (2.1.5)\n",
            "Requirement already satisfied: charset-normalizer<4,>=2 in /usr/local/lib/python3.10/dist-packages (from requests->huggingface-hub>=0.15.1->sentence-transformers) (3.3.2)\n",
            "Requirement already satisfied: idna<4,>=2.5 in /usr/local/lib/python3.10/dist-packages (from requests->huggingface-hub>=0.15.1->sentence-transformers) (3.7)\n",
            "Requirement already satisfied: urllib3<3,>=1.21.1 in /usr/local/lib/python3.10/dist-packages (from requests->huggingface-hub>=0.15.1->sentence-transformers) (2.0.7)\n",
            "Requirement already satisfied: certifi>=2017.4.17 in /usr/local/lib/python3.10/dist-packages (from requests->huggingface-hub>=0.15.1->sentence-transformers) (2024.7.4)\n",
            "Requirement already satisfied: mpmath<1.4,>=1.1.0 in /usr/local/lib/python3.10/dist-packages (from sympy->torch>=1.11.0->sentence-transformers) (1.3.0)\n"
          ]
        }
      ]
    },
    {
      "cell_type": "code",
      "source": [
        "pip install -q pyvi"
      ],
      "metadata": {
        "colab": {
          "base_uri": "https://localhost:8080/"
        },
        "id": "Nz_wekojtA0i",
        "outputId": "cd50ee2c-d0fb-47f8-b233-0c55d998ed72"
      },
      "execution_count": 9,
      "outputs": [
        {
          "output_type": "stream",
          "name": "stdout",
          "text": [
            "\u001b[2K   \u001b[90m━━━━━━━━━━━━━━━━━━━━━━━━━━━━━━━━━━━━━━━━\u001b[0m \u001b[32m8.5/8.5 MB\u001b[0m \u001b[31m39.0 MB/s\u001b[0m eta \u001b[36m0:00:00\u001b[0m\n",
            "\u001b[2K   \u001b[90m━━━━━━━━━━━━━━━━━━━━━━━━━━━━━━━━━━━━━━━━\u001b[0m \u001b[32m1.1/1.1 MB\u001b[0m \u001b[31m31.0 MB/s\u001b[0m eta \u001b[36m0:00:00\u001b[0m\n",
            "\u001b[?25h"
          ]
        }
      ]
    },
    {
      "cell_type": "code",
      "source": [
        "import json\n",
        "from sentence_transformers import SentenceTransformer\n",
        "from pyvi.ViTokenizer import tokenize\n",
        "\n",
        "embedding_model = SentenceTransformer('dangvantuan/vietnamese-embedding')\n",
        "\n",
        "# Tải dữ liệu từ file JSON\n",
        "json_file_path = 'output_data.json'\n",
        "with open(json_file_path, 'r', encoding='utf-8') as f:\n",
        "    data = json.load(f)\n",
        "\n",
        "# Mã hóa các văn bản từ output_data.json\n",
        "embeddings = {}\n",
        "for filename, text in data.items():\n",
        "    try:\n",
        "        # Tokenize văn bản trước khi mã hóa\n",
        "        tokenized_text = tokenize(text)\n",
        "        if not tokenized_text.strip():  # Kiểm tra xem văn bản sau khi tokenize có rỗng không\n",
        "            print(f\"Skipping empty text in file {filename}\")\n",
        "            continue  # Bỏ qua nếu văn bản rỗng\n",
        "        embeddings[filename] = embedding_model.encode([tokenized_text])[0]\n",
        "    except Exception as e:\n",
        "        print(f\"Error encoding file {filename}: {e}\")\n",
        "        continue  # Bỏ qua nếu gặp lỗi\n",
        "\n",
        "print(\"Successfully encoded all valid files.\")\n"
      ],
      "metadata": {
        "colab": {
          "base_uri": "https://localhost:8080/"
        },
        "id": "AmHEu56Y0bRH",
        "outputId": "95e2ee58-f05d-40d2-aa15-d6be5251592b"
      },
      "execution_count": 34,
      "outputs": [
        {
          "output_type": "stream",
          "name": "stdout",
          "text": [
            "Error encoding file triết-100-câu-p2-1-1.pdf: index out of range in self\n",
            "Error encoding file triết-100-câu-p2-1.pdf: index out of range in self\n",
            "Error encoding file Đề IOT (1).docx: index out of range in self\n",
            "Error encoding file Phạm-Ngọc-Hải_213301919 (1).pdf: index out of range in self\n",
            "Error encoding file Chuong 1.pdf: index out of range in self\n",
            "Error encoding file 07. PIC16F887.pdf: index out of range in self\n",
            "Error encoding file Phao.docx: index out of range in self\n",
            "Error encoding file 2000 Kanji thuong dung.pdf: index out of range in self\n",
            "Error encoding file 1-4.docx: index out of range in self\n",
            "Error encoding file 0-Thuc hanh Cau truc DL & GT-1.pdf: index out of range in self\n",
            "Error encoding file De-GT2-L1-gui-SV.pdf: index out of range in self\n",
            "Error encoding file 26642-Article Text-89517-1-10-20170113.pdf: index out of range in self\n",
            "Skipping empty text in file BT-MatLab-17-10.pdf\n",
            "Error encoding file BaitapGT2-2022.pdf: index out of range in self\n",
            "Error encoding file GiaoTrinhTBĐLĐK_2015_HoanThien.pdf: index out of range in self\n",
            "Error encoding file CÂU HỎI ÔN TẬP F2 - GDQP.pdf: index out of range in self\n",
            "Error encoding file Chuong 2_ Mo hinh ER.pdf: index out of range in self\n",
            "Error encoding file TOAN CAO CAP CHAPTER 7,8 VER3.pdf: index out of range in self\n",
            "Error encoding file nhapdulieu_btl.docx: index out of range in self\n",
            "Error encoding file triet2cau.docx: index out of range in self\n",
            "Error encoding file Ôn tập lí thuyết IOT cơ bản.pdf: index out of range in self\n",
            "Error encoding file Đề IOT (3).docx: index out of range in self\n",
            "Skipping empty text in file Hệ thống điều khiển nhiều chiều và phi t.pdf\n",
            "Error encoding file matlab_tran-van-chinh_chuong-4_noi-suy-va-xap-xi-ham - [cuuduongthancong.com].pdf: index out of range in self\n",
            "Error encoding file Tiềm-lực-chính-trị-tinh-thần-là-nhân-tố-cơ-bản-tạo-nên-sức-mạnh-của-quốc-phòng.docx: index out of range in self\n",
            "Error encoding file PHƯƠNG THỨC TỒN TẠI.docx: index out of range in self\n",
            "Error encoding file ETS 2022 Test 1.pdf: index out of range in self\n",
            "Error encoding file BTL-KTĐL (1).docx: index out of range in self\n",
            "Error encoding file vận-dụng-trong-xây-dựng.pdf: index out of range in self\n",
            "Error encoding file Chuong 4 Dai so quan he.pdf: index out of range in self\n",
            "Error encoding file Câu hỏi thi K62.pdf: index out of range in self\n",
            "Error encoding file Vật lý .Chương 6.Trường tĩnh điện.pdf: index out of range in self\n",
            "Error encoding file Vật lý.Nguyen lý I NĐH.pdf: index out of range in self\n",
            "Error encoding file euler_matlab.pdf: index out of range in self\n",
            "Error encoding file Chuong 1 Matlab co ban.pdf: index out of range in self\n",
            "Error encoding file Chuong 2 - Ppdem.pdf: index out of range in self\n",
            "Error encoding file Câu 2.docx: index out of range in self\n",
            "Error encoding file BÁO-CÁO-2 (1).docx: index out of range in self\n",
            "Error encoding file De-cuong.docx: index out of range in self\n",
            "Error encoding file 100-KTCT-2.pdf: index out of range in self\n",
            "Error encoding file Vật lý .Khí lý tưởng.pdf: index out of range in self\n",
            "Error encoding file Triết-học.docx: index out of range in self\n",
            "Error encoding file Đề-GT2-Lần 2-gui-SV (1).pdf: index out of range in self\n",
            "Error encoding file BTL-đo-lường-Nhóm-1_RAI62.pdf: index out of range in self\n",
            "Error encoding file 01_Tongquan.pdf: index out of range in self\n",
            "Error encoding file pact1-đttt.docx: index out of range in self\n",
            "Error encoding file Tra cứu hàm CCS cho PIC.pdf: index out of range in self\n",
            "Error encoding file BÁO CÁO.docx: index out of range in self\n",
            "Skipping empty text in file 34_Trần Quốc Huy _N08.pdf\n",
            "Error encoding file BAO_CAO_BTL_DTCSDCD_NHOM05.pdf: index out of range in self\n",
            "Error encoding file Bài Giảng Bản thảo 1.pdf: index out of range in self\n",
            "Skipping empty text in file QUICKPREP - RC - TEST 1.pdf\n",
            "Error encoding file NguyễnQuangHuy_ĐàoNhưAnh_HồThuPhương.docx: index out of range in self\n",
            "Error encoding file baigiang-KTDL-c1 2018.pdf: index out of range in self\n",
            "Error encoding file Vật lý .Chương 6.Trường tĩnh điện (1).pdf: index out of range in self\n",
            "Error encoding file CSDL_N01_NHOM03_Final.docx: index out of range in self\n",
            "Error encoding file Chuong 4 Dong luc hoc Robot.pdf: index out of range in self\n",
            "Skipping empty text in file FILE_20220405_134341_34_Trần Quốc Huy _N08.pdf\n",
            "Error encoding file Chương 1 - Logic.pdf: index out of range in self\n",
            "Error encoding file btldl.pdf: index out of range in self\n",
            "Error encoding file Vật lý Chương 7.Từ trường.pdf: index out of range in self\n",
            "Error encoding file Baitaplonvixuly (1).docx: index out of range in self\n",
            "Error encoding file 235.pdf: index out of range in self\n",
            "Error encoding file Đề IOT (2).docx: index out of range in self\n",
            "Error encoding file Một số dạng thức suy luận quan trọng thường dùng.docx: index out of range in self\n",
            "Error encoding file Baitaplonvixuly.docx: index out of range in self\n",
            "Error encoding file DE-CUONG-TRIET.pdf: index out of range in self\n",
            "Error encoding file BAITAPCOSODULIEU.docx: index out of range in self\n",
            "Error encoding file giai-tich-2__tich-phan-mat-loai-1-_-2 - [cuuduongthancong.com].pdf: index out of range in self\n",
            "Error encoding file Báo-cáo-thực-tập.docx: index out of range in self\n",
            "Error encoding file Chuong 7_Dang chuan va chuan hoa du lieu.pdf: index out of range in self\n",
            "Skipping empty text in file 34_Trần Quốc Huy_N08.pdf\n",
            "Error encoding file _VXL_slide_Phần-2_PIC16F877A-copy-cho-sv.pdf: index out of range in self\n",
            "Error encoding file Matlab_ode.pdf: index out of range in self\n",
            "Error encoding file CV NGUYEN CONG TRANG - thực tập sinh php.pdf: index out of range in self\n",
            "Error encoding file BTL-KTĐL.docx: index out of range in self\n",
            "Error encoding file Linux Device Drivers.pdf: index out of range in self\n",
            "Error encoding file Bài Giảng Bản thảo 1 (1).pdf: index out of range in self\n",
            "Error encoding file Phạm-Ngọc-Hải_213301919.pdf: index out of range in self\n",
            "Error encoding file Arduino projects book ( PDFDrive ).pdf: index out of range in self\n",
            "Error encoding file ĐỀ TOEIC READING - TỪ MS HOA TOEIC.docx: index out of range in self\n",
            "Error encoding file Slide-Matlab_m1-dkh.pdf: index out of range in self\n",
            "Skipping empty text in file tnvl.pdf\n",
            "Error encoding file CSDL-Trắc-nhiệm-350-câu (1).pdf: index out of range in self\n",
            "Error encoding file điện-tử-tương-tự.pdf: index out of range in self\n",
            "Error encoding file robot.pdf: index out of range in self\n",
            "Error encoding file đề cương (lý thuyết) made by LPT (1).pdf: index out of range in self\n",
            "Error encoding file BTL_ĐỀ 9_NHÓM9.pdf: index out of range in self\n",
            "Error encoding file BTL_ĐỀ-9_NHÓM9.pdf: index out of range in self\n",
            "Error encoding file CSDL_N01_NHOM05_Lan1-1.docx: index out of range in self\n",
            "Error encoding file Mọi-con-đường-về-0-DFS-Autosaved (1).docx: index out of range in self\n",
            "Error encoding file đề cương (lý thuyết) made by LPT.pdf: index out of range in self\n",
            "Error encoding file mang_6lowpan.docx: index out of range in self\n",
            "Error encoding file Tán gái đại cương.docx: index out of range in self\n",
            "Error encoding file Thí-nghiệm-A1.pdf: index out of range in self\n",
            "Error encoding file BÁO CÁO LẬP TRÌNH ROBOT.docx: index out of range in self\n",
            "Error encoding file ĐỀ CƯƠNG BÀI GIẢNG MÔN CNXHKH 2023(hoàn chỉnh) (1).docx: index out of range in self\n",
            "Error encoding file BÀI TẬP ROBOT CÔNG NGHIỆP (1).pdf: index out of range in self\n",
            "Error encoding file BAOCAO_NCKH.docx: index out of range in self\n",
            "Skipping empty text in file Hệ thống điều khiển nhiều chiều và phi t (1).pdf\n",
            "Error encoding file FILE_20221019_131429_Ly60z.pdf: index out of range in self\n",
            "Error encoding file BTL_ĐỀ-9_NHÓM9.docx: index out of range in self\n",
            "Error encoding file Mẫu câu hỏi trắc nghiệm Giải tích 2 - 2022 (1).pdf: index out of range in self\n",
            "Error encoding file De cuong 4TC-SV.pdf: index out of range in self\n",
            "Skipping empty text in file FILE_20220405_133949_34_Trần Quốc Huy _N08.pdf\n",
            "Error encoding file Đề-GT2-Lần 2-gui-SV.pdf: index out of range in self\n",
            "Error encoding file KTRB.docx: index out of range in self\n",
            "Error encoding file triet_100cau-1.pdf: index out of range in self\n",
            "Error encoding file I2C.docx: index out of range in self\n",
            "Error encoding file John Madieu - Linux Device Driver Development_ Everything you need to start with device driver development for Linux kernel and embedded Linux-Packt Publishing (2022).pdf: index out of range in self\n",
            "Error encoding file Chuong 1 Tong Quan.pdf: index out of range in self\n",
            "Error encoding file hdh.docx: index out of range in self\n",
            "Error encoding file Ly Thuyet do thi.pdf: index out of range in self\n",
            "Skipping empty text in file FILE_20220911_085035_1.Bai tap thuc hanh Matlab-PPT.pdf\n",
            "Error encoding file stm32cubemx.pdf: index out of range in self\n",
            "Skipping empty text in file Duy-213303537.pdf\n",
            "Error encoding file Chuong 2 Bieu dien khong gian & Phep bien doi.pdf: index out of range in self\n",
            "Error encoding file baocaocuahuy.docx: index out of range in self\n",
            "Error encoding file Chuong 3_ Mo hinh quan he.pdf: index out of range in self\n",
            "Error encoding file Chuong 6_Phu thuoc ham.pdf: index out of range in self\n",
            "Error encoding file Câu-hỏi-thuyết-trình-csdl.docx: index out of range in self\n",
            "Error encoding file Bài tập Giải tích 1 - 2021.pdf: index out of range in self\n",
            "Error encoding file Slide-Matlab_ong-dkh.pdf: index out of range in self\n",
            "Error encoding file Mẫu câu hỏi trắc nghiệm Giải tích 2 - 2022.pdf: index out of range in self\n",
            "Error encoding file Giải Đề VXL .docx: index out of range in self\n",
            "Error encoding file Vật lý. Nguyen lý II NĐH.pdf: index out of range in self\n",
            "Error encoding file Gaio-thức-CoAP.docx: index out of range in self\n",
            "Error encoding file BAITAPLONPHANTICH_QUOCHUY_2023.docx: index out of range in self\n",
            "Error encoding file huong-dan-lap-trinh-python-_toan-dai-cuong_-1.pdf: index out of range in self\n",
            "Error encoding file 04. KIT PIC CIRCUIT.pdf: index out of range in self\n",
            "Error encoding file BGGT1 (1).pdf: index out of range in self\n",
            "Error encoding file CSDL-Trắc-nhiệm-350-câu.pdf: index out of range in self\n",
            "Error encoding file TLCTDLGT.docx: index out of range in self\n",
            "Error encoding file MẠCH CÔNG SUẤT ROBOT LIDAR.docx: index out of range in self\n",
            "Error encoding file Đề IOT.docx: index out of range in self\n",
            "Error encoding file Chuong-1-ToanC.pdf: index out of range in self\n",
            "Error encoding file Chuong 3 Dong hoc Robot 2.pdf: index out of range in self\n",
            "Skipping empty text in file Bai tap - Ky thuat lap trinh.pdf\n",
            "Error encoding file BGGT1.pdf: index out of range in self\n",
            "Skipping empty text in file 600 est_.pdf\n",
            "Error encoding file BAO_CAO_CUOI_KI.docx: index out of range in self\n",
            "Error encoding file 41680-Article Text-131895-1-10-20190720.pdf: index out of range in self\n",
            "Error encoding file A.docx: index out of range in self\n",
            "Error encoding file ĐÁP ÁN.docx: index out of range in self\n",
            "Error encoding file Báo cáo thực hành_Trần Quốc Huy_213304021.docx: index out of range in self\n",
            "Error encoding file Baitapdaiso2020.pdf: index out of range in self\n",
            "Error encoding file De-mau-GT1-L1.pdf: index out of range in self\n",
            "Error encoding file Chuong 1_Mot so khai niem co ban ve CSDL.pdf: index out of range in self\n",
            "Error encoding file lap trinh STM32 F103 1.pdf: index out of range in self\n",
            "Error encoding file TAI LIEU HPIII. theo Thong tư 05 danh cho SV hoc tap.pdf: index out of range in self\n",
            "Skipping empty text in file CamScanner 04-02-2022 00.08.pdf\n",
            "Error encoding file BÀI TẬP ROBOT CÔNG NGHIỆP.pdf: index out of range in self\n",
            "Error encoding file me.docx: index out of range in self\n",
            "Error encoding file 670-Bài báo-162-1-10-20170713.pdf: index out of range in self\n",
            "Error encoding file Nguyễn Ngọc Thành _ 213333585.docx: index out of range in self\n",
            "Error encoding file BÀI KIỂM TRA MATLAB 15_11.docx: index out of range in self\n",
            "Error encoding file Nhapdulieubtl.docx: index out of range in self\n",
            "Error encoding file Bao-cao-thuc-hanh.docx: index out of range in self\n",
            "Error encoding file Đề Cương.docx: index out of range in self\n",
            "Error encoding file BTL_VXL.docx: index out of range in self\n",
            "Error encoding file Vật lý Chương 7.Từ trường (1).pdf: index out of range in self\n",
            "Error encoding file mang_6lowpan (1).docx: index out of range in self\n",
            "Skipping empty text in file matlab.docx\n",
            "Successfully encoded all valid files.\n"
          ]
        }
      ]
    },
    {
      "cell_type": "code",
      "source": [
        "from sklearn.metrics.pairwise import cosine_similarity\n",
        "\n",
        "def get_best_match(question, embeddings, data):\n",
        "    # Tokenize và mã hóa câu hỏi\n",
        "    tokenized_question = tokenize(question)\n",
        "    question_embedding = embedding_model.encode([tokenized_question])[0]\n",
        "\n",
        "    # Tính toán độ tương đồng cosine giữa câu hỏi và tất cả các embedding\n",
        "    best_score = -1\n",
        "    best_match = None\n",
        "    for filename, embedding in embeddings.items():\n",
        "        similarity_score = cosine_similarity([question_embedding], [embedding])[0][0]\n",
        "        if similarity_score > best_score:\n",
        "            best_score = similarity_score\n",
        "            best_match = filename\n",
        "\n",
        "    # Trả về văn bản tương ứng với độ tương đồng cao nhất\n",
        "    return best_match, best_score, data[best_match]\n",
        "\n",
        "# Ví dụ câu hỏi từ người dùng\n",
        "question = \"thuật toán\"\n",
        "\n",
        "# Tìm văn bản phù hợp nhất\n",
        "best_match, best_score, answer = get_best_match(question, embeddings, data)\n",
        "\n",
        "print(f\"Câu trả lời từ tệp {best_match} với độ tương đồng {best_score}:\")\n",
        "print(answer)\n"
      ],
      "metadata": {
        "colab": {
          "base_uri": "https://localhost:8080/"
        },
        "id": "k9Nf41b20pb0",
        "outputId": "93ba3bc4-86e1-469f-ff90-3c467ba70074"
      },
      "execution_count": 38,
      "outputs": [
        {
          "output_type": "stream",
          "name": "stdout",
          "text": [
            "Câu trả lời từ tệp Đề cương ôn tập PTTKTT.docx với độ tương đồng 0.4280332326889038:\n",
            "Đề cương ôn tập Phân tích thiết kế thuật toán\n",
            "Dành cho các lớp Trí Tuệ Nhân Tạo & Robot \n",
            "I. Thời gian 90 phút \n",
            "II. Hình thức thi viết không sử dụng tài liệu gồm 4 câu\n",
            "III. Yêu cầu mỗi bài phân tích thuật toán, ví dụ minh họa và code bằng ngôn ngữ C/C++\n",
            "IV. Nội dung \n",
            "Mọi con đường về 0 (DFS)\n",
            "Bài toán đong nước (BFS)\n",
            "Phân vùng ảnh (BFS)\n",
            "Cách ly covid (BFS)\n",
            "Buôn dưa lê (queue)\n",
            "Lập lịch (greedy)\n",
            "Trinh thám (priority_queue)\n",
            "Nối thanh kim loại (priority_queue)\n",
            "Phần tử trung vị (priority_queue)\n",
            "Quân hậu (Backtracking)\n",
            "Đổi tiền (Quy hoạch động)\n",
            "Sắp xếp balo (Quy hoạch động)\n",
            "Cắt hình vuông ít nhất (Quy hoạch động)\n",
            "Xâu con chung dài nhất (Quy hoạch động)\n",
            "Truy vấn max (cây IT) \n",
            "Đếm số nghịch thế (Cây IT)\n",
            "\n",
            "\n"
          ]
        }
      ]
    },
    {
      "cell_type": "code",
      "source": [
        "from transformers import GPTNeoForCausalLM, GPT2Tokenizer\n",
        "\n",
        "# Tải mô hình GPT-Neo và tokenizer\n",
        "model = GPTNeoForCausalLM.from_pretrained(\"NlpHUST/gpt-neo-vi-small\")\n",
        "tokenizer = GPT2Tokenizer.from_pretrained(\"NlpHUST/gpt-neo-vi-small\")\n",
        "\n",
        "# Tạo prompt từ văn bản phù hợp nhất\n",
        "prompt = answer + \"\\nCâu hỏi: \" + question + \"\\nTrả lời:\"\n",
        "\n",
        "# Mã hóa prompt và sinh câu trả lời\n",
        "input_ids = tokenizer(prompt, return_tensors=\"pt\").input_ids\n",
        "\n",
        "# Sử dụng max_new_tokens\n",
        "gen_tokens = model.generate(input_ids, do_sample=True, temperature=1.0, max_new_tokens=150)\n",
        "gen_text = tokenizer.decode(gen_tokens[0], skip_special_tokens=True)\n",
        "\n",
        "print(\"Câu trả lời của GPT-Neo:\\n\", gen_text)\n"
      ],
      "metadata": {
        "colab": {
          "base_uri": "https://localhost:8080/"
        },
        "id": "42I73v3v0uNF",
        "outputId": "2e9d5a4e-cf35-4bde-a448-91e90719c9c5"
      },
      "execution_count": 39,
      "outputs": [
        {
          "output_type": "stream",
          "name": "stdout",
          "text": [
            "Câu trả lời của GPT-Neo:\n",
            " Đề cương ôn tập Phân tích thiết kế thuật toán\n",
            "Dành cho các lớp Trí Tuệ Nhân Tạo & Robot \n",
            "I. Thời gian 90 phút \n",
            "II. Hình thức thi viết không sử dụng tài liệu gồm 4 câu\n",
            "III. Yêu cầu mỗi bài phân tích thuật toán, ví dụ minh họa và code bằng ngôn ngữ C/C++\n",
            "IV. Nội dung \n",
            "Mọi con đường về 0 (DFS)\n",
            "Bài toán đong nước (BFS)\n",
            "Phân vùng ảnh (BFS)\n",
            "Cách ly covid (BFS)\n",
            "Buôn dưa lê (queue)\n",
            "Lập lịch (greedy)\n",
            "Trinh thám (priority_queue)\n",
            "Nối thanh kim loại (priority_queue)\n",
            "Phần tử trung vị (priority_queue)\n",
            "Quân hậu (Backtracking)\n",
            "Đổi tiền (Quy hoạch động)\n",
            "Sắp xếp balo (Quy hoạch động)\n",
            "Cắt hình vuông ít nhất (Quy hoạch động)\n",
            "Xâu con chung dài nhất (Quy hoạch động)\n",
            "Truy vấn max (cây IT) \n",
            "Đếm số nghịch thế (Cây IT)\n",
            "\n",
            "\n",
            "Câu hỏi: thuật toán\n",
            "Trả lời: trí thông minh\n",
            "Phân loại chất (asophrolistic)\n",
            "Phân học\n",
            "Hướng dẫn xây dựng giải tích đếm\n",
            "Phần lớn các liễn (phần) trên chấm đều nằm chung với nhau\n",
            "Bài phân tích\n",
            "I. C Cơ bản (Trulated nanor)\n",
            "Phân tích cơ đồ (C-formulated taught):\n",
            "Sán bibre\n",
            "Sán crease\n",
            "Đáp án/giải tích đếm\n",
            "V. Nguồn Video: Học viện Kỹ thuật Quân sự.\n"
          ]
        }
      ]
    }
  ]
}